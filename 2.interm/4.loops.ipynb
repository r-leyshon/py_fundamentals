{
 "cells": [
  {
   "cell_type": "markdown",
   "metadata": {},
   "source": [
    "# Loops\n",
    "\n",
    "Use 4 spaces to indent in Python loops. Example used is called an inverted pendulum. I've adjusted here, essentially needs to continue until offset has been reduced to zero.\n",
    "\n",
    "## While Loop"
   ]
  },
  {
   "cell_type": "code",
   "execution_count": null,
   "metadata": {},
   "outputs": [],
   "source": [
    "# Initialize offset\n",
    "offset = -8\n",
    "\n",
    "# Code the while loop\n",
    "while offset != 0:\n",
    "    if offset > 0:\n",
    "        print(\"subtracting...\")\n",
    "        offset = offset - 1\n",
    "        print(offset)\n",
    "    elif offset < 0:\n",
    "        print(\"adding...\")\n",
    "        offset = offset + 1\n",
    "        print(offset)"
   ]
  },
  {
   "cell_type": "markdown",
   "metadata": {},
   "source": [
    "## For Loop"
   ]
  },
  {
   "cell_type": "code",
   "execution_count": null,
   "metadata": {},
   "outputs": [],
   "source": [
    "lostArt = [\"whatever\", \"you\", \"do\", \"don't\", \"tell\", \"anyone\"]"
   ]
  },
  {
   "cell_type": "code",
   "execution_count": null,
   "metadata": {},
   "outputs": [],
   "source": [
    "for word in lostArt:\n",
    "    print(word.title())"
   ]
  },
  {
   "cell_type": "code",
   "execution_count": null,
   "metadata": {},
   "outputs": [],
   "source": [
    "# use of enumerate\n",
    "for index, word in enumerate(lostArt):\n",
    "    print(f\"Word {index} is {word}\")"
   ]
  },
  {
   "cell_type": "code",
   "execution_count": null,
   "metadata": {},
   "outputs": [],
   "source": [
    "# can also iterate over a single string\n",
    "for letter in lostArt[0]:\n",
    "    print(letter.upper())"
   ]
  },
  {
   "cell_type": "markdown",
   "metadata": {},
   "source": [
    "### For Loops, Dictionaries & NumPy Arrays\n",
    "\n",
    "Some slight adjusting needed for these data structures."
   ]
  },
  {
   "cell_type": "code",
   "execution_count": null,
   "metadata": {},
   "outputs": [],
   "source": [
    "metallica = {\"James\": \"Rhythm\", \"Kirk\": \"Lead\", \"Lars\": \"Drums\", \"Rob\": \"Bass\"}"
   ]
  },
  {
   "cell_type": "code",
   "execution_count": null,
   "metadata": {},
   "outputs": [],
   "source": [
    "# need to use the items method to unpack key values\n",
    "for key, value in metallica.items():\n",
    "    print(f\"{key} plays the {value}\")"
   ]
  },
  {
   "cell_type": "code",
   "execution_count": null,
   "metadata": {},
   "outputs": [],
   "source": [
    "import numpy as np\n",
    "\n",
    "nums = np.array([0, 1, 2, 3, 4])\n",
    "lets = np.array([\"a\", \"b\", \"c\", \"d\", \"e\"])\n",
    "numLets = np.array([nums, lets])"
   ]
  },
  {
   "cell_type": "code",
   "execution_count": null,
   "metadata": {},
   "outputs": [],
   "source": [
    "for n in nums:\n",
    "    print(n)\n",
    "# works fine, buuut:"
   ]
  },
  {
   "cell_type": "code",
   "execution_count": null,
   "metadata": {},
   "outputs": [],
   "source": [
    "for thing in numLets:\n",
    "    print(thing)\n",
    "# just prints the 2 numpy arrays composing numLets, to solve:"
   ]
  },
  {
   "cell_type": "code",
   "execution_count": null,
   "metadata": {},
   "outputs": [],
   "source": [
    "for thing in np.nditer(numLets):\n",
    "    print(thing)\n",
    "# now you get all the values, first all the nums, then all the lets"
   ]
  },
  {
   "cell_type": "code",
   "execution_count": null,
   "metadata": {},
   "outputs": [],
   "source": [
    "# can use enumerate also\n",
    "for index, thing in enumerate(np.nditer(numLets)):\n",
    "    print(f\"{thing} is number {index}.\")"
   ]
  },
  {
   "cell_type": "markdown",
   "metadata": {},
   "source": [
    "## Iterate over Pandas DF"
   ]
  },
  {
   "cell_type": "code",
   "execution_count": null,
   "metadata": {},
   "outputs": [],
   "source": [
    "import pandas as pd\n",
    "\n",
    "ts = pd.util.testing.makeTimeDataFrame()\n",
    "ts.head()"
   ]
  },
  {
   "cell_type": "code",
   "execution_count": null,
   "metadata": {},
   "outputs": [],
   "source": [
    "# Basic for loop prints colnames\n",
    "for i in ts:\n",
    "    print(i)"
   ]
  },
  {
   "cell_type": "code",
   "execution_count": null,
   "metadata": {},
   "outputs": [],
   "source": [
    "# to get row contents, use the iterrows method:\n",
    "for label, content in ts.iterrows():\n",
    "    print(label)\n",
    "    print(content)"
   ]
  },
  {
   "cell_type": "code",
   "execution_count": null,
   "metadata": {},
   "outputs": [],
   "source": [
    "# you get series fornat back, allowing you to subset etc\n",
    "for label, content in ts.iterrows():\n",
    "    print(label)\n",
    "    print(content[\"A\"])"
   ]
  },
  {
   "cell_type": "code",
   "execution_count": null,
   "metadata": {},
   "outputs": [],
   "source": [
    "\" you can use this to add new column values per row\"\n",
    "from datetime import datetime\n",
    "\n",
    "for lab, row in ts.iterrows():\n",
    "    ts.loc[lab, \"day\"] = lab.strftime(\"%A\")\n",
    "ts.head()"
   ]
  },
  {
   "cell_type": "code",
   "execution_count": null,
   "metadata": {},
   "outputs": [],
   "source": [
    "ts[\"day_count\"] = ts[\"day\"].apply(len)\n",
    "ts.head()"
   ]
  },
  {
   "cell_type": "code",
   "execution_count": null,
   "metadata": {},
   "outputs": [],
   "source": [
    "# interesting exercise using apply and upper, in order to access the values, you need to precede\n",
    "# with str\n",
    "ts[\"day\"].apply(str.upper)"
   ]
  },
  {
   "cell_type": "code",
   "execution_count": null,
   "metadata": {},
   "outputs": [],
   "source": []
  }
 ],
 "metadata": {
  "language_info": {
   "codemirror_mode": {
    "name": "ipython",
    "version": 3
   },
   "file_extension": ".py",
   "mimetype": "text/x-python",
   "name": "python",
   "nbconvert_exporter": "python",
   "pygments_lexer": "ipython3",
   "version": "3.10.6"
  },
  "vscode": {
   "interpreter": {
    "hash": "8f463309bbee50a394b24af4ebaf3fd38f61c8a110995f30616c07148462eecd"
   }
  }
 },
 "nbformat": 4,
 "nbformat_minor": 2
}
