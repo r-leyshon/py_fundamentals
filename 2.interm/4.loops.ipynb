{
 "cells": [
  {
   "cell_type": "markdown",
   "metadata": {},
   "source": [
    "# Loops\n",
    "\n",
    "Use 4 spaces to indent in Python loops. Example used is called an inverted pendulum. I've adjusted here, essentially needs to continue until offset has been reduced to zero.\n",
    "\n",
    "## While Loop"
   ]
  },
  {
   "cell_type": "code",
   "execution_count": null,
   "metadata": {},
   "outputs": [],
   "source": [
    "# Initialize offset\n",
    "offset = -8\n",
    "\n",
    "# Code the while loop\n",
    "while offset != 0:\n",
    "    if offset > 0:\n",
    "        print(\"subtracting...\")\n",
    "        offset = offset - 1\n",
    "        print(offset)\n",
    "    elif offset < 0:\n",
    "        print(\"adding...\")\n",
    "        offset = offset + 1\n",
    "        print(offset)"
   ]
  },
  {
   "cell_type": "markdown",
   "metadata": {},
   "source": [
    "## For Loop"
   ]
  },
  {
   "cell_type": "code",
   "execution_count": null,
   "metadata": {},
   "outputs": [],
   "source": [
    "lostArt = [\"whatever\", \"you\", \"do\", \"don't\", \"tell\", \"anyone\"]"
   ]
  },
  {
   "cell_type": "code",
   "execution_count": null,
   "metadata": {},
   "outputs": [],
   "source": [
    "for word in lostArt:\n",
    "    print(word.title())"
   ]
  },
  {
   "cell_type": "code",
   "execution_count": null,
   "metadata": {},
   "outputs": [],
   "source": [
    "# use of enumerate\n",
    "for index, word in enumerate(lostArt):\n",
    "    print(f\"Word {index} is {word}\")"
   ]
  },
  {
   "cell_type": "code",
   "execution_count": null,
   "metadata": {},
   "outputs": [],
   "source": [
    "# can also iterate over a single string\n",
    "for letter in lostArt[0]:\n",
    "    print(letter.upper())"
   ]
  },
  {
   "cell_type": "code",
   "execution_count": null,
   "metadata": {},
   "outputs": [],
   "source": []
  }
 ],
 "metadata": {
  "language_info": {
   "codemirror_mode": {
    "name": "ipython",
    "version": 3
   },
   "file_extension": ".py",
   "mimetype": "text/x-python",
   "name": "python",
   "nbconvert_exporter": "python",
   "pygments_lexer": "ipython3",
   "version": "3.10.6"
  },
  "vscode": {
   "interpreter": {
    "hash": "8f463309bbee50a394b24af4ebaf3fd38f61c8a110995f30616c07148462eecd"
   }
  }
 },
 "nbformat": 4,
 "nbformat_minor": 2
}
