{
 "cells": [
  {
   "cell_type": "markdown",
   "metadata": {},
   "source": [
    "# Dictionaries & Pandas\n",
    "\n",
    "Starts off with a simple comparison of using multiple lists vs a dictionary to \n",
    "associate values with keys. However, it uses the index list method, so worth\n",
    "summarising."
   ]
  },
  {
   "cell_type": "code",
   "execution_count": null,
   "metadata": {},
   "outputs": [],
   "source": [
    "ages = [38, 37, 8, 6]\n",
    "names = [\"Mel\", \"Jane\", \"Stacey\", \"Tim\"]\n",
    "# to get the age of Stacey:\n",
    "print(f\"The index value of Stacey is {names.index('Stacey')}.\")\n",
    "print(f\"Stacey is {ages[names.index('Stacey')]} years old.\")"
   ]
  },
  {
   "cell_type": "markdown",
   "metadata": {},
   "source": [
    "A dictionary is a better and more efficient data structure for this purpose."
   ]
  },
  {
   "cell_type": "code",
   "execution_count": null,
   "metadata": {},
   "outputs": [],
   "source": [
    "family = {\"Mel\": 38, \"Jane\": 37, \"Stacey\": 8, \"Tim\": 6}"
   ]
  },
  {
   "cell_type": "code",
   "execution_count": null,
   "metadata": {},
   "outputs": [],
   "source": [
    "print(f\"Stacey is {family['Stacey']} years old.\")"
   ]
  },
  {
   "cell_type": "markdown",
   "metadata": {},
   "source": [
    "To check on the available key values:"
   ]
  },
  {
   "cell_type": "code",
   "execution_count": null,
   "metadata": {},
   "outputs": [],
   "source": [
    "family.keys()"
   ]
  },
  {
   "cell_type": "markdown",
   "metadata": {},
   "source": [
    "## Updating dicts"
   ]
  },
  {
   "cell_type": "code",
   "execution_count": null,
   "metadata": {},
   "outputs": [],
   "source": [
    "family[\"Chip\"] = 3\n",
    "print(\"Chip\" in family)\n",
    "family"
   ]
  },
  {
   "cell_type": "code",
   "execution_count": null,
   "metadata": {},
   "outputs": [],
   "source": [
    "# little Timmy celebrates his birthday\n",
    "family[\"Tim\"] = 7\n",
    "print(f\"Happy {family['Tim']}th birthday Timmy\")"
   ]
  },
  {
   "cell_type": "code",
   "execution_count": null,
   "metadata": {},
   "outputs": [],
   "source": [
    "# Chip gets sent to the farm\n",
    "del family[\"Chip\"]\n",
    "\"Chip\" in family"
   ]
  },
  {
   "cell_type": "code",
   "execution_count": null,
   "metadata": {},
   "outputs": [],
   "source": [
    "# Kids nag for a hamster, comes with a caveat\n",
    "family[\"Joachin\"] = {\"Age\": 0.3, \"Lifespan\": \"short\"}\n",
    "family"
   ]
  },
  {
   "cell_type": "code",
   "execution_count": null,
   "metadata": {},
   "outputs": [],
   "source": [
    "# chain subsetting is straight forward\n",
    "family[\"Joachin\"][\"Lifespan\"]"
   ]
  },
  {
   "cell_type": "markdown",
   "metadata": {},
   "source": [
    "## Pandas\n",
    "\n",
    "### Creating dataframes from dictionaries"
   ]
  },
  {
   "cell_type": "code",
   "execution_count": null,
   "metadata": {},
   "outputs": [],
   "source": [
    "# toy df\n",
    "homes_dict = {\n",
    "    \"Name\": [\"Jubilee\", \"Celtic\", \"Bay\"],\n",
    "    \"Owned\": [True, False, False],\n",
    "    \"Area\": [280, 340, 180],\n",
    "}\n",
    "import pandas as pd\n",
    "\n",
    "homes_pd = pd.DataFrame(homes_dict)\n",
    "homes_pd"
   ]
  },
  {
   "cell_type": "markdown",
   "metadata": {},
   "source": [
    "### Setting Row Labels"
   ]
  },
  {
   "cell_type": "code",
   "execution_count": null,
   "metadata": {},
   "outputs": [],
   "source": [
    "new_labels = [\"last\", \"middle\", \"first\"]\n",
    "homes_pd.index = new_labels\n",
    "homes_pd"
   ]
  },
  {
   "cell_type": "code",
   "execution_count": null,
   "metadata": {},
   "outputs": [],
   "source": [
    "import os\n",
    "\n",
    "from pyprojroot import here\n",
    "\n",
    "homes_pd.to_csv(os.path.join(here(), \"data\", \"homes.csv\"))"
   ]
  },
  {
   "cell_type": "markdown",
   "metadata": {},
   "source": [
    "### Specify index col on read"
   ]
  },
  {
   "cell_type": "code",
   "execution_count": null,
   "metadata": {},
   "outputs": [],
   "source": [
    "pd.read_csv(os.path.join(here(), \"data\", \"homes.csv\"), index_col=0)"
   ]
  },
  {
   "cell_type": "code",
   "execution_count": null,
   "metadata": {},
   "outputs": [],
   "source": []
  }
 ],
 "metadata": {
  "language_info": {
   "codemirror_mode": {
    "name": "ipython",
    "version": 3
   },
   "file_extension": ".py",
   "mimetype": "text/x-python",
   "name": "python",
   "nbconvert_exporter": "python",
   "pygments_lexer": "ipython3",
   "version": "3.10.5"
  },
  "vscode": {
   "interpreter": {
    "hash": "ad6582de77b4fee8679ff3e43183496a077e1d40fc7e7f5ac13f390ae6873935"
   }
  }
 },
 "nbformat": 4,
 "nbformat_minor": 2
}
