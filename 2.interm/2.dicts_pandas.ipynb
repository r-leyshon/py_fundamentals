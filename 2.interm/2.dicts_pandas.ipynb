{
 "cells": [
  {
   "cell_type": "markdown",
   "metadata": {},
   "source": [
    "# Dictionaries & Pandas\n",
    "\n",
    "Starts off with a simple comparison of using multiple lists vs a dictionary to \n",
    "associate values with keys. However, it uses the index list method, so worth\n",
    "summarising."
   ]
  },
  {
   "cell_type": "code",
   "execution_count": null,
   "metadata": {},
   "outputs": [],
   "source": [
    "ages = [38, 37, 8, 6]\n",
    "names = [\"Mel\", \"Jane\", \"Stacey\", \"Tim\"]\n",
    "# to get the age of Stacey:\n",
    "print(f\"The index value of Stacey is {names.index('Stacey')}.\")\n",
    "print(f\"Stacey is {ages[names.index('Stacey')]} years old.\")"
   ]
  },
  {
   "cell_type": "markdown",
   "metadata": {},
   "source": [
    "A dictionary is a better and more efficient data structure for this purpose."
   ]
  },
  {
   "cell_type": "code",
   "execution_count": null,
   "metadata": {},
   "outputs": [],
   "source": [
    "family = {\"Mel\": 38, \"Jane\": 37, \"Stacey\": 8, \"Tim\": 6}"
   ]
  },
  {
   "cell_type": "code",
   "execution_count": null,
   "metadata": {},
   "outputs": [],
   "source": [
    "print(f\"Stacey is {family['Stacey']} years old.\")"
   ]
  },
  {
   "cell_type": "markdown",
   "metadata": {},
   "source": [
    "To check on the available key values:"
   ]
  },
  {
   "cell_type": "code",
   "execution_count": null,
   "metadata": {},
   "outputs": [],
   "source": [
    "family.keys()"
   ]
  },
  {
   "cell_type": "code",
   "execution_count": null,
   "metadata": {},
   "outputs": [],
   "source": []
  }
 ],
 "metadata": {
  "language_info": {
   "codemirror_mode": {
    "name": "ipython",
    "version": 3
   },
   "file_extension": ".py",
   "mimetype": "text/x-python",
   "name": "python",
   "nbconvert_exporter": "python",
   "pygments_lexer": "ipython3",
   "version": "3.9.10"
  },
  "vscode": {
   "interpreter": {
    "hash": "674885a22a8f84ae62b69fd36ca440d95622dda91184fb7e02abcde20b0d9e4a"
   }
  }
 },
 "nbformat": 4,
 "nbformat_minor": 2
}
