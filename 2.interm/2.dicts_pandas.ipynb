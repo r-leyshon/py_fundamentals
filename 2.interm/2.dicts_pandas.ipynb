{
 "cells": [
  {
   "cell_type": "markdown",
   "metadata": {},
   "source": [
    "# Dictionaries & Pandas\n",
    "\n",
    "Starts off with a simple comparison of using multiple lists vs a dictionary to \n",
    "associate values with keys. However, it uses the index list method, so worth\n",
    "summarising."
   ]
  },
  {
   "cell_type": "code",
   "execution_count": null,
   "metadata": {},
   "outputs": [],
   "source": [
    "ages = [38, 37, 8, 6]\n",
    "names = [\"Mel\", \"Jane\", \"Stacey\", \"Tim\"]\n",
    "# to get the age of Stacey:\n",
    "print(f\"The index value of Stacey is {names.index('Stacey')}.\")\n",
    "print(f\"Stacey is {ages[names.index('Stacey')]} years old.\")"
   ]
  },
  {
   "cell_type": "markdown",
   "metadata": {},
   "source": [
    "A dictionary is a better and more efficient data structure for this purpose."
   ]
  },
  {
   "cell_type": "code",
   "execution_count": null,
   "metadata": {},
   "outputs": [],
   "source": [
    "family = {\"Mel\": 38, \"Jane\": 37, \"Stacey\": 8, \"Tim\": 6}"
   ]
  },
  {
   "cell_type": "code",
   "execution_count": null,
   "metadata": {},
   "outputs": [],
   "source": [
    "print(f\"Stacey is {family['Stacey']} years old.\")"
   ]
  },
  {
   "cell_type": "markdown",
   "metadata": {},
   "source": [
    "To check on the available key values:"
   ]
  },
  {
   "cell_type": "code",
   "execution_count": null,
   "metadata": {},
   "outputs": [],
   "source": [
    "family.keys()"
   ]
  },
  {
   "cell_type": "markdown",
   "metadata": {},
   "source": [
    "## Updating dicts"
   ]
  },
  {
   "cell_type": "code",
   "execution_count": null,
   "metadata": {},
   "outputs": [],
   "source": [
    "family[\"Chip\"] = 3\n",
    "print(\"Chip\" in family)\n",
    "family"
   ]
  },
  {
   "cell_type": "code",
   "execution_count": null,
   "metadata": {},
   "outputs": [],
   "source": [
    "# little Timmy celebrates his birthday\n",
    "family[\"Tim\"] = 7\n",
    "print(f\"Happy {family['Tim']}th birthday Timmy\")"
   ]
  },
  {
   "cell_type": "code",
   "execution_count": null,
   "metadata": {},
   "outputs": [],
   "source": [
    "# Chip gets sent to the farm\n",
    "del family[\"Chip\"]\n",
    "\"Chip\" in family"
   ]
  },
  {
   "cell_type": "code",
   "execution_count": null,
   "metadata": {},
   "outputs": [],
   "source": [
    "# Kids nag for a hamster, comes with a caveat\n",
    "family[\"Joachin\"] = {\"Age\": 0.3, \"Lifespan\": \"short\"}\n",
    "family"
   ]
  },
  {
   "cell_type": "code",
   "execution_count": null,
   "metadata": {},
   "outputs": [],
   "source": [
    "# chain subsetting is straight forward\n",
    "family[\"Joachin\"][\"Lifespan\"]"
   ]
  },
  {
   "cell_type": "code",
   "execution_count": null,
   "metadata": {},
   "outputs": [],
   "source": []
  }
 ],
 "metadata": {
  "language_info": {
   "codemirror_mode": {
    "name": "ipython",
    "version": 3
   },
   "file_extension": ".py",
   "mimetype": "text/x-python",
   "name": "python",
   "nbconvert_exporter": "python",
   "pygments_lexer": "ipython3",
   "version": "3.10.6"
  },
  "vscode": {
   "interpreter": {
    "hash": "8f463309bbee50a394b24af4ebaf3fd38f61c8a110995f30616c07148462eecd"
   }
  }
 },
 "nbformat": 4,
 "nbformat_minor": 2
}
