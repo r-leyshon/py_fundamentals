{
 "cells": [
  {
   "cell_type": "markdown",
   "metadata": {},
   "source": [
    "# Logic, Control Flow & Filtering.\n",
    "\n",
    "Mostly straight forward apart from NumPy arrays."
   ]
  },
  {
   "cell_type": "code",
   "execution_count": null,
   "metadata": {},
   "outputs": [],
   "source": [
    "import numpy as np"
   ]
  },
  {
   "cell_type": "code",
   "execution_count": null,
   "metadata": {},
   "outputs": [],
   "source": [
    "testarray = np.array([10, 20, 30, 40])\n",
    "testarray >= 30\n",
    "# NumPy generates another array to compare against test array\n",
    "# np.array([30, 30, 30, 30])"
   ]
  },
  {
   "cell_type": "code",
   "execution_count": null,
   "metadata": {},
   "outputs": [],
   "source": [
    "# also test against other np arrays\n",
    "newarray = np.array([30, 40, 50, 60])\n",
    "testarray == newarray"
   ]
  },
  {
   "cell_type": "markdown",
   "metadata": {},
   "source": [
    "## Boolean Comparison Operators\n",
    "\n",
    "Goes over the use of `and`, `or` and `not`. They don't work for NumPy arrays, but NumPy has its own equivalents:\n",
    "`logical_and()`, `logical_or()` and `logical_not()`."
   ]
  },
  {
   "cell_type": "code",
   "execution_count": null,
   "metadata": {},
   "outputs": [],
   "source": [
    "np.logical_and(testarray > 10, testarray < 40)"
   ]
  },
  {
   "cell_type": "code",
   "execution_count": null,
   "metadata": {},
   "outputs": [],
   "source": [
    "np.logical_or(testarray == 10, testarray == 40)"
   ]
  },
  {
   "cell_type": "code",
   "execution_count": null,
   "metadata": {},
   "outputs": [],
   "source": [
    "result = testarray > 50\n",
    "print(result)\n",
    "np.logical_not(result)"
   ]
  },
  {
   "cell_type": "markdown",
   "metadata": {},
   "source": [
    "## Logic & Pandas"
   ]
  },
  {
   "cell_type": "code",
   "execution_count": null,
   "metadata": {},
   "outputs": [],
   "source": [
    "import pandas as pd"
   ]
  },
  {
   "cell_type": "code",
   "execution_count": null,
   "metadata": {},
   "outputs": [],
   "source": [
    "timeseries = pd.util.testing.makeTimeDataFrame()\n",
    "timeseries.head()"
   ]
  },
  {
   "cell_type": "code",
   "execution_count": null,
   "metadata": {},
   "outputs": [],
   "source": [
    "len(timeseries)"
   ]
  },
  {
   "cell_type": "code",
   "execution_count": null,
   "metadata": {},
   "outputs": [],
   "source": [
    "# you want to pull out columns as pd series rather than df for comparison\n",
    "print(type(timeseries.A))\n",
    "print(type(timeseries[\"A\"]))\n",
    "print(type(timeseries[[\"A\"]]))"
   ]
  },
  {
   "cell_type": "code",
   "execution_count": null,
   "metadata": {},
   "outputs": [],
   "source": [
    "len(timeseries[timeseries.A > 0])"
   ]
  },
  {
   "cell_type": "code",
   "execution_count": null,
   "metadata": {},
   "outputs": [],
   "source": [
    "# for multiple comparisons, suggested to use np logicals\n",
    "# timeseries.A > 0 and timeseries[\"B\"] < 0    # this fails\n",
    "len(timeseries[np.logical_and(timeseries.A > 0, timeseries.B < 0)])"
   ]
  },
  {
   "cell_type": "code",
   "execution_count": null,
   "metadata": {},
   "outputs": [],
   "source": []
  }
 ],
 "metadata": {
  "language_info": {
   "codemirror_mode": {
    "name": "ipython",
    "version": 3
   },
   "file_extension": ".py",
   "mimetype": "text/x-python",
   "name": "python",
   "nbconvert_exporter": "python",
   "pygments_lexer": "ipython3",
   "version": "3.10.6"
  },
  "vscode": {
   "interpreter": {
    "hash": "8f463309bbee50a394b24af4ebaf3fd38f61c8a110995f30616c07148462eecd"
   }
  }
 },
 "nbformat": 4,
 "nbformat_minor": 2
}
