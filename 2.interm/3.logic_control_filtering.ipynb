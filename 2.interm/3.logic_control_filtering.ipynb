{
 "cells": [
  {
   "cell_type": "markdown",
   "metadata": {},
   "source": [
    "# Logic, Control Flow & Filtering.\n",
    "\n",
    "Mostly straight forward apart from NumPy arrays."
   ]
  },
  {
   "cell_type": "code",
   "execution_count": null,
   "metadata": {},
   "outputs": [],
   "source": [
    "import numpy as np"
   ]
  },
  {
   "cell_type": "code",
   "execution_count": null,
   "metadata": {},
   "outputs": [],
   "source": [
    "testarray = np.array([10, 20, 30, 40])\n",
    "testarray >= 30\n",
    "# NumPy generates another array to compare against test array\n",
    "# np.array([30, 30, 30, 30])"
   ]
  },
  {
   "cell_type": "code",
   "execution_count": null,
   "metadata": {},
   "outputs": [],
   "source": [
    "# also test against other np arrays\n",
    "newarray = np.array([30, 40, 50, 60])\n",
    "testarray == newarray"
   ]
  },
  {
   "cell_type": "code",
   "execution_count": null,
   "metadata": {},
   "outputs": [],
   "source": []
  }
 ],
 "metadata": {
  "language_info": {
   "codemirror_mode": {
    "name": "ipython",
    "version": 3
   },
   "file_extension": ".py",
   "mimetype": "text/x-python",
   "name": "python",
   "nbconvert_exporter": "python",
   "pygments_lexer": "ipython3",
   "version": "3.10.6"
  },
  "vscode": {
   "interpreter": {
    "hash": "8f463309bbee50a394b24af4ebaf3fd38f61c8a110995f30616c07148462eecd"
   }
  }
 },
 "nbformat": 4,
 "nbformat_minor": 2
}
