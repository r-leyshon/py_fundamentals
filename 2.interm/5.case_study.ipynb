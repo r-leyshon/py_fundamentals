{
 "cells": [
  {
   "cell_type": "markdown",
   "metadata": {},
   "source": [
    "# Case Study\n",
    "\n",
    "## Steps Game"
   ]
  },
  {
   "cell_type": "code",
   "execution_count": null,
   "metadata": {},
   "outputs": [],
   "source": [
    "import matplotlib.pyplot as plt\n",
    "import numpy as np\n",
    "\n",
    "np.random.seed(38)"
   ]
  },
  {
   "cell_type": "code",
   "execution_count": null,
   "metadata": {},
   "outputs": [],
   "source": [
    "all_journeys = []"
   ]
  },
  {
   "cell_type": "code",
   "execution_count": null,
   "metadata": {},
   "outputs": [],
   "source": [
    "# outer loop will repeat the game a given number of times\n",
    "for y in range(500):\n",
    "    step_record = [0]\n",
    "    for x in range(100):\n",
    "        dice = np.random.randint(0, 7)\n",
    "        step = step_record[-1]\n",
    "        if dice < 3:\n",
    "            step -= 1\n",
    "        elif dice < 6:\n",
    "            step += 1\n",
    "        else:\n",
    "            step = step + np.random.randint(0, 7)\n",
    "        # ensure that you cannot enter the basement\n",
    "        step = max(step, 0)\n",
    "        # 0.1% chance of clumsily falling back to the start\n",
    "        if np.random.rand() <= 0.001:\n",
    "            step = 0\n",
    "        step_record.append(step)\n",
    "    all_journeys.append(step_record)"
   ]
  },
  {
   "cell_type": "code",
   "execution_count": null,
   "metadata": {},
   "outputs": [],
   "source": [
    "plt.plot(np.array(all_journeys))\n",
    "# didnt work as expected"
   ]
  },
  {
   "cell_type": "code",
   "execution_count": null,
   "metadata": {},
   "outputs": [],
   "source": [
    "# transposing fixes\n",
    "journeys_transp = np.transpose(np.array(all_journeys))\n",
    "plt.plot(journeys_transp)\n",
    "# this adjusts the np array, in the original array, each row is a journey corresponding to one step_record\n",
    "# transposing converts the array so that each row represents the position after one dice throw for each of the 10\n",
    "# journeys."
   ]
  },
  {
   "cell_type": "code",
   "execution_count": null,
   "metadata": {},
   "outputs": [],
   "source": [
    "# what are the odds you reach step 80? Need to see the distribution of all the endpoints\n",
    "final_steps = journeys_transp[-1, :]"
   ]
  },
  {
   "cell_type": "code",
   "execution_count": null,
   "metadata": {},
   "outputs": [],
   "source": [
    "plt.hist(final_steps)"
   ]
  },
  {
   "cell_type": "code",
   "execution_count": null,
   "metadata": {},
   "outputs": [],
   "source": [
    "# calculate the odds of reaching 70 steps\n",
    "print(\n",
    "    f\"Average chance of reaching 70 steps high is {round(sum(final_steps >= 70) / 500 * 100, 2)}%.\"\n",
    ")"
   ]
  },
  {
   "cell_type": "code",
   "execution_count": null,
   "metadata": {},
   "outputs": [],
   "source": []
  }
 ],
 "metadata": {
  "language_info": {
   "codemirror_mode": {
    "name": "ipython",
    "version": 3
   },
   "file_extension": ".py",
   "mimetype": "text/x-python",
   "name": "python",
   "nbconvert_exporter": "python",
   "pygments_lexer": "ipython3",
   "version": "3.10.6"
  },
  "vscode": {
   "interpreter": {
    "hash": "8f463309bbee50a394b24af4ebaf3fd38f61c8a110995f30616c07148462eecd"
   }
  }
 },
 "nbformat": 4,
 "nbformat_minor": 2
}
