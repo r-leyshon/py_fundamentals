{
 "cells": [
  {
   "cell_type": "markdown",
   "metadata": {},
   "source": [
    "# Arguments & Scoping.\n",
    "\n",
    "Goes over local v global v builtin scope and search order. Looks at assigning a global variable from within a local scope by using the `global` function, much in the same way `assign()` works in rstats. No mention of whether this is a good idea. \n",
    "\n",
    "Also, I have noticed that there may be a scoping difference between objects assigned within the function signature or function body. It appears that objects assigned in the signature may get a global scope. This would affect your choice of where to define if the function is expected to be called multiple times.  "
   ]
  },
  {
   "cell_type": "code",
   "execution_count": null,
   "metadata": {},
   "outputs": [],
   "source": [
    "car = \"Nissan Qashqai\""
   ]
  },
  {
   "cell_type": "code",
   "execution_count": null,
   "metadata": {},
   "outputs": [],
   "source": [
    "# not good code - should be passing the target object as a parameter, but the exercise does not do this\n",
    "# also, better to return the value and assign to car.\n",
    "def upgrade_car():\n",
    "    global car\n",
    "    car = \"Audi A6\"\n",
    "    print(\"Car upgraded\")\n",
    "\n",
    "\n",
    "upgrade_car()"
   ]
  },
  {
   "cell_type": "code",
   "execution_count": null,
   "metadata": {},
   "outputs": [],
   "source": [
    "print(f\"my car is an {car}.\")"
   ]
  },
  {
   "cell_type": "markdown",
   "metadata": {},
   "source": [
    "## Builtin scope\n",
    "\n",
    "You need to import builtin in order to explore what's available"
   ]
  },
  {
   "cell_type": "code",
   "execution_count": null,
   "metadata": {},
   "outputs": [],
   "source": [
    "import builtins"
   ]
  },
  {
   "cell_type": "code",
   "execution_count": null,
   "metadata": {},
   "outputs": [],
   "source": [
    "# check all methods and properties available within the module with the `dir()` function.\n",
    "dir(builtins)"
   ]
  },
  {
   "cell_type": "markdown",
   "metadata": {},
   "source": [
    "## Nested Functions\n",
    "\n",
    "Some interesting examples of why you would want to use nested functions. The first example was using nested functions to write more economical code, which is not a good argument for nesting a function in my book. Instead, you would write a separate function and call it when required, allowing you to unit test that function separately. \n",
    "\n",
    "The other example was more interesting. The wrapper function calls the inner function instead. That way you can assign the returned function to an object and continue to use the assigned function.\n",
    "\n",
    "### Example 1"
   ]
  },
  {
   "cell_type": "code",
   "execution_count": null,
   "metadata": {},
   "outputs": [],
   "source": [
    "def three_whispers(string1, string2, string3):\n",
    "    \"\"\"Turns three strings into whispers\"\"\"\n",
    "\n",
    "    def make_whisper(string):\n",
    "        \"\"\"Takes the drama out of any string\"\"\"\n",
    "        return string.lower() + \"...\"\n",
    "\n",
    "    return (make_whisper(string1), make_whisper(string2), make_whisper(string3))"
   ]
  },
  {
   "cell_type": "code",
   "execution_count": null,
   "metadata": {},
   "outputs": [],
   "source": [
    "three_whispers(\"I know\", \"What you did\", \"LAST SUMMER\")"
   ]
  },
  {
   "cell_type": "markdown",
   "metadata": {},
   "source": [
    "### Example 2\n",
    "\n",
    "This is about creating a closure. You can execute the wrapper function and assign it to an object. Then use the object as a function in itself. You have stored the state of the wrapper function until you require the inner function to execute."
   ]
  },
  {
   "cell_type": "code",
   "execution_count": null,
   "metadata": {},
   "outputs": [],
   "source": [
    "def create_sentence(any_verb):\n",
    "    \"\"\"Creates a sentence with the specified verb.\"\"\"\n",
    "\n",
    "    def add_noun(any_noun):\n",
    "        \"\"\"Adds any noun to the sentence.\"\"\"\n",
    "        return f\"I {any_verb} a {any_noun}\"\n",
    "\n",
    "    return add_noun"
   ]
  },
  {
   "cell_type": "code",
   "execution_count": null,
   "metadata": {},
   "outputs": [],
   "source": [
    "# what things did you buy?\n",
    "bought = create_sentence(\"bought\")\n",
    "print(bought(\"parrot\"))\n",
    "print(bought(\"carrot\"))"
   ]
  },
  {
   "cell_type": "code",
   "execution_count": null,
   "metadata": {},
   "outputs": [],
   "source": [
    "# what did you pinch?\n",
    "pinched = create_sentence(\"pinched\")\n",
    "print(pinched(\"cake\"))\n",
    "print(pinched(\"snake\"))"
   ]
  },
  {
   "cell_type": "markdown",
   "metadata": {},
   "source": [
    "### nonlocal\n",
    "\n",
    "This function allows you to assign to an enclosing scope. Global is a bit more specific. "
   ]
  },
  {
   "cell_type": "code",
   "execution_count": null,
   "metadata": {},
   "outputs": [],
   "source": [
    "def create_sentence(any_verb):\n",
    "    \"\"\"Creates a sentence with the specified verb.\"\"\"\n",
    "    my_sentence = f\"I {any_verb} a {'melon'}\"\n",
    "    print(my_sentence)\n",
    "\n",
    "    def melonlemon():\n",
    "        \"\"\"Change melon to lemon\"\"\"\n",
    "        nonlocal my_sentence\n",
    "        my_sentence = f\"I {any_verb} a lemon\"\n",
    "\n",
    "    melonlemon()\n",
    "    return my_sentence"
   ]
  },
  {
   "cell_type": "code",
   "execution_count": null,
   "metadata": {},
   "outputs": [],
   "source": [
    "# what did you slice?\n",
    "create_sentence(\"sliced\")"
   ]
  },
  {
   "cell_type": "markdown",
   "metadata": {},
   "source": [
    "## Default & Flexible Arguments\n",
    "\n",
    "Section goes through some basic default argument values. Then goes onto flexible arguments with `*args` and `**kwargs`. \n",
    "\n",
    "Arguments preceded by a single asterisk such as `*args` (name not important) can be iterated over as a tuple.\n",
    "\n",
    "Arguments preceded by double asterisk such as `**kwargs` (name not important) can be used as a dictionary. They must be named arguments with an identifier, eg `key=value`.\n",
    "\n",
    "### Variable length arguments"
   ]
  },
  {
   "cell_type": "code",
   "execution_count": null,
   "metadata": {},
   "outputs": [],
   "source": [
    "def double_up(*some_ints):\n",
    "    output = list()\n",
    "    for ints in some_ints:\n",
    "        output.append(ints * 2)\n",
    "    return output"
   ]
  },
  {
   "cell_type": "code",
   "execution_count": null,
   "metadata": {},
   "outputs": [],
   "source": [
    "print(double_up(2))\n",
    "print(double_up(1, 2, 3, 4, 5))"
   ]
  },
  {
   "cell_type": "code",
   "execution_count": null,
   "metadata": {},
   "outputs": [],
   "source": []
  }
 ],
 "metadata": {
  "language_info": {
   "codemirror_mode": {
    "name": "ipython",
    "version": 3
   },
   "file_extension": ".py",
   "mimetype": "text/x-python",
   "name": "python",
   "nbconvert_exporter": "python",
   "pygments_lexer": "ipython3",
   "version": "3.10.5"
  },
  "vscode": {
   "interpreter": {
    "hash": "ad6582de77b4fee8679ff3e43183496a077e1d40fc7e7f5ac13f390ae6873935"
   }
  }
 },
 "nbformat": 4,
 "nbformat_minor": 2
}
