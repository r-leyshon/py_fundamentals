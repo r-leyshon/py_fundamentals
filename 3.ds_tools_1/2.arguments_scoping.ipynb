{
 "cells": [
  {
   "cell_type": "markdown",
   "metadata": {},
   "source": [
    "# Arguments & Scoping.\n",
    "\n",
    "Goes over local v global v builtin scope and search order. Looks at assigning a global variable from within a local scope by using the `global` function, much in the same way `assign()` works in rstats. No mention of whether this is a good idea. \n",
    "\n",
    "Also, I have noticed that there may be a scoping difference between objects assigned within the function signature or function body. It appears that objects assigned in the signature may get a global scope. This would affect your choice of where to define if the function is expected to be called multiple times.  "
   ]
  },
  {
   "cell_type": "code",
   "execution_count": null,
   "metadata": {},
   "outputs": [],
   "source": [
    "car = \"Nissan Qashqai\""
   ]
  },
  {
   "cell_type": "code",
   "execution_count": null,
   "metadata": {},
   "outputs": [],
   "source": [
    "# not good code - should be passing the target object as a parameter, but the exercise does not do this\n",
    "# also, better to return the value and assign to car.\n",
    "def upgrade_car():\n",
    "    global car\n",
    "    car = \"Audi A6\"\n",
    "    print(\"Car upgraded\")\n",
    "\n",
    "\n",
    "upgrade_car()"
   ]
  },
  {
   "cell_type": "code",
   "execution_count": null,
   "metadata": {},
   "outputs": [],
   "source": [
    "print(f\"my car is an {car}.\")"
   ]
  },
  {
   "cell_type": "code",
   "execution_count": null,
   "metadata": {},
   "outputs": [],
   "source": []
  }
 ],
 "metadata": {
  "language_info": {
   "codemirror_mode": {
    "name": "ipython",
    "version": 3
   },
   "file_extension": ".py",
   "mimetype": "text/x-python",
   "name": "python",
   "nbconvert_exporter": "python",
   "pygments_lexer": "ipython3",
   "version": "3.10.5"
  },
  "vscode": {
   "interpreter": {
    "hash": "ad6582de77b4fee8679ff3e43183496a077e1d40fc7e7f5ac13f390ae6873935"
   }
  }
 },
 "nbformat": 4,
 "nbformat_minor": 2
}
