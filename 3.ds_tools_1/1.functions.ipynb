{
 "cells": [
  {
   "cell_type": "markdown",
   "metadata": {},
   "source": [
    "# Writing Functions\n",
    "\n",
    "## Single return value\n",
    "\n",
    "Starts with a reminder that you need to return a value not print it. Assigning the output of a print statement to an object results in a NoneType type."
   ]
  },
  {
   "cell_type": "code",
   "execution_count": null,
   "metadata": {},
   "outputs": [],
   "source": [
    "def exclaim(string):\n",
    "    \"\"\"Adds drama to your string.\"\"\"\n",
    "    string = string.upper() + \"!!!\"\n",
    "    return string\n",
    "\n",
    "\n",
    "exclaim(\"Hello\")"
   ]
  },
  {
   "cell_type": "markdown",
   "metadata": {},
   "source": [
    "## Multiple return values\n",
    "\n",
    "Achieve this by returning tuples of values, which can be assigned by unpacking.\n",
    "\n",
    "When returning tuple values, you can use either:\n",
    "\n",
    "`return (a, b)`\n",
    "\n",
    "or\n",
    "\n",
    "`return a, b`\n",
    "\n",
    "A tuple is returned in each case."
   ]
  },
  {
   "cell_type": "code",
   "execution_count": null,
   "metadata": {},
   "outputs": [],
   "source": [
    "def exclaim_all(string1, string2):\n",
    "    \"\"\"Adds drama to 2 strings\"\"\"\n",
    "    string1 = string1.upper() + \"!!!\"\n",
    "    string2 = string2.upper() + \"!!!\"\n",
    "    strings = (string1, string2)\n",
    "    return strings"
   ]
  },
  {
   "cell_type": "code",
   "execution_count": null,
   "metadata": {},
   "outputs": [],
   "source": [
    "exclaim_all(\"foo\", \"bar\")"
   ]
  },
  {
   "cell_type": "code",
   "execution_count": null,
   "metadata": {},
   "outputs": [],
   "source": []
  }
 ],
 "metadata": {
  "language_info": {
   "codemirror_mode": {
    "name": "ipython",
    "version": 3
   },
   "file_extension": ".py",
   "mimetype": "text/x-python",
   "name": "python",
   "nbconvert_exporter": "python",
   "pygments_lexer": "ipython3",
   "version": "3.10.6"
  },
  "vscode": {
   "interpreter": {
    "hash": "8f463309bbee50a394b24af4ebaf3fd38f61c8a110995f30616c07148462eecd"
   }
  }
 },
 "nbformat": 4,
 "nbformat_minor": 2
}
