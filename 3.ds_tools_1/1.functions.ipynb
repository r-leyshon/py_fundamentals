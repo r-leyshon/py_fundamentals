{
 "cells": [
  {
   "cell_type": "markdown",
   "metadata": {},
   "source": [
    "# Writing Functions\n",
    "\n",
    "## Single return value\n",
    "\n",
    "Starts with a reminder that you need to return a value not print it. Assigning the output of a print statement to an object results in a NoneType type."
   ]
  },
  {
   "cell_type": "code",
   "execution_count": null,
   "metadata": {},
   "outputs": [],
   "source": [
    "def exclaim(string):\n",
    "    \"\"\"Adds drama to your string.\"\"\"\n",
    "    string = string.upper() + \"!!!\"\n",
    "    return string\n",
    "\n",
    "\n",
    "exclaim(\"Hello\")"
   ]
  },
  {
   "cell_type": "markdown",
   "metadata": {},
   "source": [
    "## Multiple return values\n",
    "\n",
    "Achieve this by returning tuples of values, which can be assigned by unpacking.\n",
    "\n",
    "When returning tuple values, you can use either:\n",
    "\n",
    "`return (a, b)`\n",
    "\n",
    "or\n",
    "\n",
    "`return a, b`\n",
    "\n",
    "A tuple is returned in each case."
   ]
  },
  {
   "cell_type": "code",
   "execution_count": null,
   "metadata": {},
   "outputs": [],
   "source": [
    "def exclaim_all(string1, string2):\n",
    "    \"\"\"Adds drama to 2 strings\"\"\"\n",
    "    string1 = string1.upper() + \"!!!\"\n",
    "    string2 = string2.upper() + \"!!!\"\n",
    "    strings = (string1, string2)\n",
    "    return strings"
   ]
  },
  {
   "cell_type": "code",
   "execution_count": null,
   "metadata": {},
   "outputs": [],
   "source": [
    "exclaim_all(\"foo\", \"bar\")"
   ]
  },
  {
   "cell_type": "markdown",
   "metadata": {},
   "source": [
    "## Case Study"
   ]
  },
  {
   "cell_type": "code",
   "execution_count": null,
   "metadata": {},
   "outputs": [],
   "source": [
    "import pandas as pd\n",
    "import seaborn as sns"
   ]
  },
  {
   "cell_type": "code",
   "execution_count": null,
   "metadata": {},
   "outputs": [],
   "source": [
    "penguins = sns.load_dataset(\"penguins\")\n",
    "penguins.head()"
   ]
  },
  {
   "cell_type": "code",
   "execution_count": null,
   "metadata": {},
   "outputs": [],
   "source": [
    "# count the species available within the dataframe\n",
    "species_count = {}\n",
    "for species in penguins[\"species\"]:\n",
    "    if species in species_count.keys():\n",
    "        species_count[species] += 1\n",
    "    else:\n",
    "        species_count[species] = 1\n",
    "print(species_count)"
   ]
  },
  {
   "cell_type": "code",
   "execution_count": null,
   "metadata": {},
   "outputs": [],
   "source": [
    "# count values in any column\n",
    "def table(df, colname):\n",
    "    \"\"\"Count value frequencies  within a dataframe column.\"\"\"\n",
    "    vals = dict()\n",
    "    for entry in df[colname]:\n",
    "        if entry in vals.keys():\n",
    "            vals[entry] += 1\n",
    "        else:\n",
    "            vals[entry] = 1\n",
    "    return vals"
   ]
  },
  {
   "cell_type": "code",
   "execution_count": null,
   "metadata": {},
   "outputs": [],
   "source": [
    "table(penguins, \"species\")"
   ]
  },
  {
   "cell_type": "code",
   "execution_count": null,
   "metadata": {},
   "outputs": [],
   "source": [
    "table(penguins, \"island\")"
   ]
  },
  {
   "cell_type": "code",
   "execution_count": null,
   "metadata": {},
   "outputs": [],
   "source": [
    "table(penguins, \"sex\")"
   ]
  }
 ],
 "metadata": {
  "language_info": {
   "codemirror_mode": {
    "name": "ipython",
    "version": 3
   },
   "file_extension": ".py",
   "mimetype": "text/x-python",
   "name": "python",
   "nbconvert_exporter": "python",
   "pygments_lexer": "ipython3",
   "version": "3.10.5"
  },
  "vscode": {
   "interpreter": {
    "hash": "ad6582de77b4fee8679ff3e43183496a077e1d40fc7e7f5ac13f390ae6873935"
   }
  }
 },
 "nbformat": 4,
 "nbformat_minor": 2
}
