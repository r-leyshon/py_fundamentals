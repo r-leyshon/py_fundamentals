{
 "cells": [
  {
   "cell_type": "markdown",
   "metadata": {},
   "source": [
    "# Lambda Functions & Errors\n",
    "\n",
    "The case for lambda functions is made. They are explained as quick and dirty and not always the ideal solution. They take less lines of code and can be anonymous or named. \n",
    "\n",
    "Used a nice example where you use `map()` to apply your anonymous function to an iterable.\n",
    "\n",
    "Turn the following function from module 1 into a lambda function:\n",
    "\n",
    ">```\n",
    ">def exclaim_all(string1, string2):\n",
    ">    \"\"\"Adds drama to 2 strings\"\"\"\n",
    ">    string1 = string1.upper() + \"!!!\"\n",
    ">    string2 = string2.upper() + \"!!!\"\n",
    ">    strings = (string1, string2)\n",
    ">    return strings\n",
    ">```"
   ]
  },
  {
   "cell_type": "code",
   "execution_count": null,
   "metadata": {},
   "outputs": [],
   "source": [
    "l_exclaim = lambda s1, s2: (s1.upper() + \"!!!\", s2.upper() + \"!!!\")"
   ]
  },
  {
   "cell_type": "code",
   "execution_count": null,
   "metadata": {},
   "outputs": [],
   "source": [
    "l_exclaim(\"we built this city\", \"on rock & roll\")"
   ]
  },
  {
   "cell_type": "markdown",
   "metadata": {},
   "source": [
    "## Lambda & map\n",
    "\n",
    "the `map()` function applies any function to an iterable."
   ]
  },
  {
   "cell_type": "code",
   "execution_count": null,
   "metadata": {},
   "outputs": [],
   "source": [
    "cobra_noise = [\"STRIKE\", \"FIRST\", \"STRIKE\", \"HARD\", \"NO\", \"MERCY\"]\n",
    "cobra_quiet = map(lambda w: w.lower(), cobra_noise)\n",
    "cobra_quiet\n",
    "# you get a map object"
   ]
  },
  {
   "cell_type": "code",
   "execution_count": null,
   "metadata": {},
   "outputs": [],
   "source": [
    "# to get the values\n",
    "list(cobra_quiet)"
   ]
  },
  {
   "cell_type": "markdown",
   "metadata": {},
   "source": [
    "## lambda & filter\n",
    "\n",
    "filter can be used to remove elements of a list that do not meet the specified requirement."
   ]
  },
  {
   "cell_type": "code",
   "execution_count": null,
   "metadata": {},
   "outputs": [],
   "source": [
    "filtered_noise = filter(lambda w: \"S\" in w, cobra_noise)\n",
    "list(filtered_noise)"
   ]
  },
  {
   "cell_type": "markdown",
   "metadata": {},
   "source": [
    "## lambda & reduce\n",
    "\n",
    "reduce is a good option when you need a function that summarises mulitple values, or concatenates several strings into one. It needs to be imported from the `functools` module."
   ]
  },
  {
   "cell_type": "code",
   "execution_count": null,
   "metadata": {},
   "outputs": [],
   "source": [
    "from functools import reduce\n",
    "\n",
    "import numpy as np\n",
    "\n",
    "some_ints = np.random.randint(low=1, high=100, size=50)\n",
    "some_ints"
   ]
  },
  {
   "cell_type": "code",
   "execution_count": null,
   "metadata": {},
   "outputs": [],
   "source": [
    "reduce(lambda i1, i2: i1 + i2, some_ints)\n",
    "# interesting that despite taking 2 parameters, reduce handles the generalisation over multiple values\n",
    "# would be okay for sum but couldn't use for mean or median, so on."
   ]
  },
  {
   "cell_type": "code",
   "execution_count": null,
   "metadata": {},
   "outputs": [],
   "source": [
    "sum(some_ints)"
   ]
  },
  {
   "cell_type": "markdown",
   "metadata": {},
   "source": [
    "## Error Handling\n",
    "\n",
    "### Try Except Blocks\n",
    "\n",
    "Used to print messages in this example. Don't see this to be the best use of a try except block but could be some merit in considering good use cases for this clause.\n",
    "\n",
    "Back to our generalised table function from modile 1:\n",
    "\n",
    "```\n",
    "# count values in any column\n",
    "def table(df, colname):\n",
    "    \"\"\"Count value frequencies  within a dataframe column.\"\"\"\n",
    "    vals = dict()\n",
    "    for entry in df[colname]:\n",
    "        if entry in vals.keys():\n",
    "            vals[entry] += 1\n",
    "        else:\n",
    "            vals[entry] = 1\n",
    "    return vals\n",
    "```"
   ]
  },
  {
   "cell_type": "code",
   "execution_count": null,
   "metadata": {},
   "outputs": [],
   "source": [
    "import seaborn as sns\n",
    "\n",
    "penguins = sns.load_dataset(\"penguins\")"
   ]
  },
  {
   "cell_type": "code",
   "execution_count": null,
   "metadata": {},
   "outputs": [],
   "source": [
    "# insert try except for missing colnames\n",
    "# count values in any column\n",
    "def table(df, colname):\n",
    "    \"\"\"Count value frequencies  within a dataframe column.\"\"\"\n",
    "    vals = dict()\n",
    "    try:\n",
    "        for entry in df[colname]:\n",
    "            if entry in vals.keys():\n",
    "                vals[entry] += 1\n",
    "            else:\n",
    "                vals[entry] = 1\n",
    "        return vals\n",
    "    except:\n",
    "        print(\"Did you spell colname correctly?\")"
   ]
  },
  {
   "cell_type": "code",
   "execution_count": null,
   "metadata": {},
   "outputs": [],
   "source": [
    "table(penguins, \"island\")"
   ]
  },
  {
   "cell_type": "code",
   "execution_count": null,
   "metadata": {},
   "outputs": [],
   "source": [
    "table(penguins, \"islands\")"
   ]
  },
  {
   "cell_type": "markdown",
   "metadata": {},
   "source": [
    "## Raising errors"
   ]
  },
  {
   "cell_type": "code",
   "execution_count": null,
   "metadata": {},
   "outputs": [],
   "source": [
    "# raise error if colname is not string\n",
    "def table(df, colname):\n",
    "    \"\"\"Count value frequencies  within a dataframe column.\"\"\"\n",
    "    vals = dict()\n",
    "    if not isinstance(colname, str):\n",
    "        raise TypeError(\"`colname` should be a string.\")\n",
    "\n",
    "    try:\n",
    "        for entry in df[colname]:\n",
    "            if entry in vals.keys():\n",
    "                vals[entry] += 1\n",
    "            else:\n",
    "                vals[entry] = 1\n",
    "        return vals\n",
    "    except:\n",
    "        print(\"Did you spell colname correctly?\")"
   ]
  },
  {
   "cell_type": "code",
   "execution_count": null,
   "metadata": {},
   "outputs": [],
   "source": [
    "# table(penguins, 1)\n",
    "# TypeError: `colname` should be a string."
   ]
  },
  {
   "cell_type": "markdown",
   "metadata": {},
   "source": [
    "## Case Study"
   ]
  },
  {
   "cell_type": "code",
   "execution_count": null,
   "metadata": {},
   "outputs": [],
   "source": [
    "# example filtered out twitter data to just retweets by looking for a pattern \"RT\".\n",
    "# With penguins I'll filter to island Biscoe\n",
    "biscoe = filter(lambda x: x[0:2] == \"Bi\", penguins[\"island\"])\n",
    "biscoe = list(biscoe)"
   ]
  },
  {
   "cell_type": "code",
   "execution_count": null,
   "metadata": {},
   "outputs": [],
   "source": [
    "biscoe[0:5]"
   ]
  },
  {
   "cell_type": "code",
   "execution_count": null,
   "metadata": {},
   "outputs": [],
   "source": [
    "# raises error if colname not in df for table fun\n",
    "# raise error if colname is not string\n",
    "def table(df, colname):\n",
    "    \"\"\"Count value frequencies  within a dataframe column.\"\"\"\n",
    "    vals = dict()\n",
    "    if not isinstance(colname, str):\n",
    "        raise TypeError(\"`colname` should be a string.\")\n",
    "\n",
    "    if colname not in df.columns:\n",
    "        raise ValueError(f\"Is {colname} spelled correctly?\")\n",
    "\n",
    "    for entry in df[colname]:\n",
    "        if entry in vals.keys():\n",
    "            vals[entry] += 1\n",
    "        else:\n",
    "            vals[entry] = 1\n",
    "    return vals"
   ]
  },
  {
   "cell_type": "code",
   "execution_count": null,
   "metadata": {},
   "outputs": [],
   "source": [
    "# table(penguins, \"islands\")\n",
    "# ValueError: Is islands spelled correctly?"
   ]
  },
  {
   "cell_type": "markdown",
   "metadata": {},
   "source": []
  }
 ],
 "metadata": {
  "language_info": {
   "codemirror_mode": {
    "name": "ipython",
    "version": 3
   },
   "file_extension": ".py",
   "mimetype": "text/x-python",
   "name": "python",
   "nbconvert_exporter": "python",
   "pygments_lexer": "ipython3",
   "version": "3.10.5"
  },
  "vscode": {
   "interpreter": {
    "hash": "ad6582de77b4fee8679ff3e43183496a077e1d40fc7e7f5ac13f390ae6873935"
   }
  }
 },
 "nbformat": 4,
 "nbformat_minor": 2
}
