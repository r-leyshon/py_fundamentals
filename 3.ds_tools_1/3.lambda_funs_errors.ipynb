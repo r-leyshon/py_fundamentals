{
 "cells": [
  {
   "cell_type": "markdown",
   "metadata": {},
   "source": [
    "# Lambda Functions & Errors\n",
    "\n",
    "The case for lambda functions is made. They are explained as quick and dirty and not always the ideal solution. They take less lines of code and can be anonymous or named. \n",
    "\n",
    "Used a nice example where you use `map()` to apply your anonymous function to an iterable.\n",
    "\n",
    "Turn the following function from module 1 into a lambda function:\n",
    "\n",
    ">```\n",
    ">def exclaim_all(string1, string2):\n",
    ">    \"\"\"Adds drama to 2 strings\"\"\"\n",
    ">    string1 = string1.upper() + \"!!!\"\n",
    ">    string2 = string2.upper() + \"!!!\"\n",
    ">    strings = (string1, string2)\n",
    ">    return strings\n",
    ">```"
   ]
  },
  {
   "cell_type": "code",
   "execution_count": null,
   "metadata": {},
   "outputs": [],
   "source": [
    "l_exclaim = lambda s1, s2: (s1.upper() + \"!!!\", s2.upper() + \"!!!\")"
   ]
  },
  {
   "cell_type": "code",
   "execution_count": null,
   "metadata": {},
   "outputs": [],
   "source": [
    "l_exclaim(\"we built this city\", \"on rock & roll\")"
   ]
  },
  {
   "cell_type": "markdown",
   "metadata": {},
   "source": [
    "## Lambda & map\n",
    "\n",
    "the `map()` function applies any function to an iterable."
   ]
  },
  {
   "cell_type": "code",
   "execution_count": null,
   "metadata": {},
   "outputs": [],
   "source": [
    "cobra_noise = [\"STRIKE\", \"FIRST\", \"STRIKE\", \"HARD\", \"NO\", \"MERCY\"]\n",
    "cobra_quiet = map(lambda w: w.lower(), cobra_noise)\n",
    "cobra_quiet\n",
    "# you get a map object"
   ]
  },
  {
   "cell_type": "code",
   "execution_count": null,
   "metadata": {},
   "outputs": [],
   "source": [
    "# to get the values\n",
    "list(cobra_quiet)"
   ]
  },
  {
   "cell_type": "code",
   "execution_count": null,
   "metadata": {},
   "outputs": [],
   "source": []
  }
 ],
 "metadata": {
  "language_info": {
   "codemirror_mode": {
    "name": "ipython",
    "version": 3
   },
   "file_extension": ".py",
   "mimetype": "text/x-python",
   "name": "python",
   "nbconvert_exporter": "python",
   "pygments_lexer": "ipython3",
   "version": "3.10.6"
  },
  "vscode": {
   "interpreter": {
    "hash": "8f463309bbee50a394b24af4ebaf3fd38f61c8a110995f30616c07148462eecd"
   }
  }
 },
 "nbformat": 4,
 "nbformat_minor": 2
}
