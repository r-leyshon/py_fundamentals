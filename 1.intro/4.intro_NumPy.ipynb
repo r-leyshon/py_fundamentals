{
 "cells": [
  {
   "cell_type": "markdown",
   "metadata": {},
   "source": [
    "# Intro to NumPy\n",
    "\n"
   ]
  },
  {
   "cell_type": "markdown",
   "metadata": {},
   "source": [
    "While lists are pretty flexible in terms of storing items of varying types, they're not\n",
    "the right choice for performing element-wise operations at scale. Enter the NumPy array.\n",
    "\n",
    "An important distinction to regular lists, np arrays contain only one datatype. Creating\n",
    "a list of differing types will result in coercion to the same type."
   ]
  },
  {
   "cell_type": "code",
   "execution_count": null,
   "metadata": {},
   "outputs": [],
   "source": [
    "import numpy as np\n",
    "\n",
    "base_list = [1, 2, 3]\n",
    "numpy_array = np.array(base_list)"
   ]
  },
  {
   "cell_type": "code",
   "execution_count": null,
   "metadata": {},
   "outputs": [],
   "source": [
    "base_list + base_list"
   ]
  },
  {
   "cell_type": "code",
   "execution_count": null,
   "metadata": {},
   "outputs": [],
   "source": [
    "numpy_array + numpy_array"
   ]
  },
  {
   "cell_type": "code",
   "execution_count": null,
   "metadata": {},
   "outputs": [],
   "source": [
    "# Subsetting is similar to lists, with the added functionality of being able to use\n",
    "# logical masks\n",
    "print(numpy_array > 2)\n",
    "numpy_array[numpy_array > 2]"
   ]
  },
  {
   "cell_type": "markdown",
   "metadata": {},
   "source": [
    "***\n",
    "\n",
    "## 2D NumPy Arrays"
   ]
  },
  {
   "cell_type": "markdown",
   "metadata": {},
   "source": []
  }
 ],
 "metadata": {
  "language_info": {
   "codemirror_mode": {
    "name": "ipython",
    "version": 3
   },
   "file_extension": ".py",
   "mimetype": "text/x-python",
   "name": "python",
   "nbconvert_exporter": "python",
   "pygments_lexer": "ipython3",
   "version": "3.9.12"
  },
  "vscode": {
   "interpreter": {
    "hash": "7895f217e68862cc64de98ac6380342eba21817095d2b89de09679768c650992"
   }
  }
 },
 "nbformat": 4,
 "nbformat_minor": 2
}
