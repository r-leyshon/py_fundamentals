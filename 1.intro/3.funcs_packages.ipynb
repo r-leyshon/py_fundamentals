{
 "cells": [
  {
   "cell_type": "markdown",
   "metadata": {},
   "source": [
    "# Functions & Packages\n",
    "\n",
    "## Functions\n",
    "\n",
    "Some common base python functions:\n",
    "\n",
    "`type()`  \n",
    "`max()`  \n",
    "`round()`  \n",
    "`help()`  \n",
    "`print()`  \n",
    "`str()`  \n",
    "`int()`  \n",
    "`bool()`  \n",
    "`float()` "
   ]
  },
  {
   "cell_type": "code",
   "execution_count": null,
   "metadata": {},
   "outputs": [],
   "source": [
    "# 2 ways to access help docs\n",
    "# help(max)\n",
    "print?"
   ]
  },
  {
   "cell_type": "code",
   "execution_count": null,
   "metadata": {},
   "outputs": [],
   "source": []
  }
 ],
 "metadata": {
  "language_info": {
   "codemirror_mode": {
    "name": "ipython",
    "version": 3
   },
   "file_extension": ".py",
   "mimetype": "text/x-python",
   "name": "python",
   "nbconvert_exporter": "python",
   "pygments_lexer": "ipython3",
   "version": "3.9.10"
  },
  "vscode": {
   "interpreter": {
    "hash": "674885a22a8f84ae62b69fd36ca440d95622dda91184fb7e02abcde20b0d9e4a"
   }
  }
 },
 "nbformat": 4,
 "nbformat_minor": 2
}
