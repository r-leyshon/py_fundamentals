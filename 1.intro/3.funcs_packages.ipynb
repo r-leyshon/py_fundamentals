{
 "cells": [
  {
   "cell_type": "markdown",
   "metadata": {},
   "source": [
    "# Functions & Packages\n",
    "\n",
    "## Functions\n",
    "\n",
    "Some common base python functions:\n",
    "\n",
    "`type()`  \n",
    "`max()`  \n",
    "`round()`  \n",
    "`help()`  \n",
    "`print()`  \n",
    "`str()`  \n",
    "`int()`  \n",
    "`bool()`  \n",
    "`float()` "
   ]
  },
  {
   "cell_type": "code",
   "execution_count": null,
   "metadata": {},
   "outputs": [],
   "source": [
    "# 2 ways to access help docs\n",
    "# help(max)\n",
    "max?"
   ]
  },
  {
   "cell_type": "markdown",
   "metadata": {},
   "source": [
    "Little Exercise with optional param specification with the `sorted()` func:\n",
    "\n",
    "```\n",
    "sorted(iterable, /, *, key=None, reverse=False)\n",
    "    Return a new list containing all items from the iterable in ascending order.\n",
    "    \n",
    "    A custom key function can be supplied to customize the sort order, and the\n",
    "    reverse flag can be set to request the result in descending order.\n",
    "\n",
    "```\n",
    "\n",
    "Uses `+` operator to combine 2 lists. Notices that this cannot be done with a dict.\n",
    "\n",
    "***\n",
    "\n",
    "## Methods\n",
    "\n",
    "Think of these as functions that belong to specific objects. \n",
    "\n",
    "EG a method belonging to a string: `capitalize`\n"
   ]
  },
  {
   "cell_type": "code",
   "execution_count": null,
   "metadata": {},
   "outputs": [],
   "source": [
    "# A method for a list - index\n",
    "family = [\"Daddy\", 38, \"Mummy\", 37, \"Jessie\", 8, \"Jakey\", 6]\n",
    "family.index(\"Mummy\")"
   ]
  },
  {
   "cell_type": "code",
   "execution_count": null,
   "metadata": {},
   "outputs": [],
   "source": [
    "# Also a count method\n",
    "family.count(8)"
   ]
  },
  {
   "cell_type": "code",
   "execution_count": null,
   "metadata": {},
   "outputs": [],
   "source": [
    "# Some string methods\n",
    "\n",
    "blah = \"fizz buzz fizzbuzz\"\n",
    "blah.capitalize()\n",
    "# Only caps the first letter"
   ]
  },
  {
   "cell_type": "code",
   "execution_count": null,
   "metadata": {},
   "outputs": [],
   "source": [
    "blah.title()  # titlecases the string"
   ]
  },
  {
   "cell_type": "code",
   "execution_count": null,
   "metadata": {},
   "outputs": [],
   "source": [
    "blah.replace(\"z\", \"x\")"
   ]
  },
  {
   "cell_type": "code",
   "execution_count": null,
   "metadata": {},
   "outputs": [],
   "source": [
    "# the index method is available for both strings & lists\n",
    "print(blah.index(\"b\"))  # counts spaces too\n",
    "family.index(\"Jakey\")"
   ]
  },
  {
   "cell_type": "code",
   "execution_count": null,
   "metadata": {},
   "outputs": [],
   "source": [
    "# Certain methods update the object value, lets look at list again\n",
    "print(len(family))\n",
    "family.append((\"Fonzie\", 10))  # only takes 1 item at a time, but you can pass a tuple\n",
    "print(family)\n",
    "print(len(family))"
   ]
  },
  {
   "cell_type": "code",
   "execution_count": null,
   "metadata": {},
   "outputs": [],
   "source": [
    "help(str)"
   ]
  },
  {
   "cell_type": "code",
   "execution_count": null,
   "metadata": {},
   "outputs": [],
   "source": [
    "print(blah)\n",
    "blah.__contains__(\"z\")"
   ]
  },
  {
   "cell_type": "code",
   "execution_count": null,
   "metadata": {},
   "outputs": [],
   "source": [
    "# interesting method:\n",
    "# |  casefold(self, /)\n",
    "# |      Return a version of the string suitable for caseless comparisons.\n",
    "blah.capitalize().casefold()"
   ]
  },
  {
   "cell_type": "markdown",
   "metadata": {},
   "source": [
    "```  \n",
    "lstrip(self, chars=None, /)\n",
    "Return a copy of the string with leading whitespace removed.\n",
    "If chars is given and not None, remove characters in chars instead.\n",
    "```"
   ]
  },
  {
   "cell_type": "code",
   "execution_count": null,
   "metadata": {},
   "outputs": [],
   "source": [
    "\"   badly formatted string\".lstrip()  # not sure about the chars arg"
   ]
  },
  {
   "cell_type": "markdown",
   "metadata": {},
   "source": [
    "***\n",
    "\n",
    "### Some List Methods\n",
    "\n",
    "Examples of list methods that change the object inplace:\n",
    "\n",
    "* `append()`\n",
    "* `remove()`\n",
    "* `reverse()`\n",
    "\n",
    "***\n",
    "\n",
    "## Packages\n"
   ]
  },
  {
   "cell_type": "markdown",
   "metadata": {},
   "source": [
    "## Installing pip\n",
    "\n",
    "Go to the [pip documentation](https://pip.pypa.io/en/stable/installation/)\n",
    "\n",
    "Download `get-pip.py`\n",
    "\n",
    "Over to terminal:\n",
    "\n",
    "`python3 get-pip.py`\n",
    "\n",
    "`pip3 install numpy`  "
   ]
  },
  {
   "cell_type": "markdown",
   "metadata": {},
   "source": []
  }
 ],
 "metadata": {
  "language_info": {
   "codemirror_mode": {
    "name": "ipython",
    "version": 3
   },
   "file_extension": ".py",
   "mimetype": "text/x-python",
   "name": "python",
   "nbconvert_exporter": "python",
   "pygments_lexer": "ipython3",
   "version": "3.9.10"
  },
  "vscode": {
   "interpreter": {
    "hash": "674885a22a8f84ae62b69fd36ca440d95622dda91184fb7e02abcde20b0d9e4a"
   }
  }
 },
 "nbformat": 4,
 "nbformat_minor": 2
}
