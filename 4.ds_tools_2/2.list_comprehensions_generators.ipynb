{
 "cells": [
  {
   "cell_type": "markdown",
   "metadata": {},
   "source": [
    "# List Comprehensions & Generators\n",
    "\n",
    "## List Comprehensions\n",
    "\n",
    "Compared to a `for` loop, these are computationally efficient. They also decrease the\n",
    "number of lines written, although at the price of readability.\n",
    "\n",
    "Consider them for when you require a list of the same length as the iterable you're working with."
   ]
  },
  {
   "cell_type": "code",
   "execution_count": 1,
   "metadata": {},
   "outputs": [
    {
     "data": {
      "text/plain": [
       "['0!', '1!', '2!', '3!', '4!', '5!', '6!', '7!', '8!', '9!', '10!']"
      ]
     },
     "execution_count": 1,
     "metadata": {},
     "output_type": "execute_result"
    }
   ],
   "source": [
    "# adds emphasis to your numbers\n",
    "[str(num) + \"!\" for num in range(0, 11)]"
   ]
  },
  {
   "cell_type": "markdown",
   "metadata": {},
   "source": [
    "## Nested for loops in comprehension\n",
    "\n",
    "Instead of using a nested for loop, the same can be achieved with list comprehensions. Great for dodging the black complexity pre-commit hook.\n",
    "\n",
    "build a matrix equivalent to:\n",
    "\n",
    "```\n",
    "my_mat = [\n",
    "    [1,2,3],\n",
    "    [1,2,3],\n",
    "    [1,2,3]\n",
    "]\n",
    "```"
   ]
  },
  {
   "cell_type": "code",
   "execution_count": 2,
   "metadata": {},
   "outputs": [
    {
     "data": {
      "text/plain": [
       "[[1, 2, 3], [1, 2, 3], [1, 2, 3]]"
      ]
     },
     "execution_count": 2,
     "metadata": {},
     "output_type": "execute_result"
    }
   ],
   "source": [
    "my_mat = [[column for column in range(1, 4)] for row in range(1, 4)]\n",
    "my_mat"
   ]
  },
  {
   "cell_type": "markdown",
   "metadata": {},
   "source": [
    "## List Comprehensions & Conditions"
   ]
  },
  {
   "cell_type": "code",
   "execution_count": 3,
   "metadata": {},
   "outputs": [],
   "source": [
    "cobra_kai = [\"Johnny Lawrence\", \"Daniel LaRusso\", \"Terry Silver\", \"John Kreese\"]"
   ]
  },
  {
   "cell_type": "code",
   "execution_count": 4,
   "metadata": {},
   "outputs": [
    {
     "data": {
      "text/plain": [
       "['Johnny Lawrence', 'Daniel LaRusso']"
      ]
     },
     "execution_count": 4,
     "metadata": {},
     "output_type": "execute_result"
    }
   ],
   "source": [
    "# a single predicate goes after the for clause\n",
    "[person for person in cobra_kai if \"L\" in person]"
   ]
  },
  {
   "cell_type": "code",
   "execution_count": 5,
   "metadata": {},
   "outputs": [
    {
     "data": {
      "text/plain": [
       "['Johnny Lawrence', 'Daniel LaRusso', 'baddie', 'baddie']"
      ]
     },
     "execution_count": 5,
     "metadata": {},
     "output_type": "execute_result"
    }
   ],
   "source": [
    "# an if else seems to need the predicates to go before the for clause\n",
    "[person if \"L\" in person else \"baddie\" for person in cobra_kai]"
   ]
  },
  {
   "cell_type": "markdown",
   "metadata": {},
   "source": [
    "## Dictionary Comprehension\n",
    "\n",
    "The same can be achieved with dictionaries."
   ]
  },
  {
   "cell_type": "code",
   "execution_count": 11,
   "metadata": {},
   "outputs": [
    {
     "data": {
      "text/plain": [
       "{'Johnny Lawrence': ['johnny', 'lawrence'],\n",
       " 'Daniel LaRusso': ['daniel', 'larusso'],\n",
       " 'Terry Silver': ['terry', 'silver'],\n",
       " 'John Kreese': ['john', 'kreese']}"
      ]
     },
     "execution_count": 11,
     "metadata": {},
     "output_type": "execute_result"
    }
   ],
   "source": [
    "{member: member.lower().split(\" \") for member in cobra_kai}"
   ]
  },
  {
   "cell_type": "code",
   "execution_count": null,
   "metadata": {},
   "outputs": [],
   "source": []
  }
 ],
 "metadata": {
  "kernelspec": {
   "display_name": "Python 3.9.12 ('py-fundamentals')",
   "language": "python",
   "name": "python3"
  },
  "language_info": {
   "codemirror_mode": {
    "name": "ipython",
    "version": 3
   },
   "file_extension": ".py",
   "mimetype": "text/x-python",
   "name": "python",
   "nbconvert_exporter": "python",
   "pygments_lexer": "ipython3",
   "version": "3.9.12"
  },
  "vscode": {
   "interpreter": {
    "hash": "6181d3ab94599cf65ce5351e726c9c383fd9f31592b5b0074083a4691ee01183"
   }
  }
 },
 "nbformat": 4,
 "nbformat_minor": 2
}
