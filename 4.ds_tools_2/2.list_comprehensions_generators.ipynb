{
 "cells": [
  {
   "cell_type": "markdown",
   "metadata": {},
   "source": [
    "# List Comprehensions & Generators\n",
    "\n",
    "## List Comprehensions\n",
    "\n",
    "Compared to a `for` loop, these are computationally efficient. They also decrease the\n",
    "number of lines written, although at the price of readability.\n",
    "\n",
    "Consider them for when you require a list of the same length as the iterable you're working with."
   ]
  },
  {
   "cell_type": "code",
   "execution_count": null,
   "metadata": {},
   "outputs": [],
   "source": [
    "# adds emphasis to your numbers\n",
    "[str(num) + \"!\" for num in range(0, 11)]"
   ]
  },
  {
   "cell_type": "markdown",
   "metadata": {},
   "source": [
    "## Nested for loops in comprehension\n",
    "\n",
    "Instead of using a nested for loop, the same can be achieved with list comprehensions. Great for dodging the black complexity pre-commit hook.\n",
    "\n",
    "build a matrix equivalent to:\n",
    "\n",
    "```\n",
    "my_mat = [\n",
    "    [1,2,3],\n",
    "    [1,2,3],\n",
    "    [1,2,3]\n",
    "]\n",
    "```"
   ]
  },
  {
   "cell_type": "code",
   "execution_count": null,
   "metadata": {},
   "outputs": [],
   "source": [
    "my_mat = [[column for column in range(1, 4)] for row in range(1, 4)]\n",
    "my_mat"
   ]
  },
  {
   "cell_type": "markdown",
   "metadata": {},
   "source": [
    "## List Comprehensions & Conditions"
   ]
  },
  {
   "cell_type": "code",
   "execution_count": null,
   "metadata": {},
   "outputs": [],
   "source": [
    "cobra_kai = [\"Johnny Lawrence\", \"Daniel LaRusso\", \"Terry Silver\", \"John Kreese\"]"
   ]
  },
  {
   "cell_type": "code",
   "execution_count": null,
   "metadata": {},
   "outputs": [],
   "source": [
    "# a single predicate goes after the for clause\n",
    "[person for person in cobra_kai if \"L\" in person]"
   ]
  },
  {
   "cell_type": "code",
   "execution_count": null,
   "metadata": {},
   "outputs": [],
   "source": [
    "# an if else seems to need the predicates to go before the for clause\n",
    "[person if \"L\" in person else \"baddie\" for person in cobra_kai]"
   ]
  },
  {
   "cell_type": "code",
   "execution_count": null,
   "metadata": {},
   "outputs": [],
   "source": []
  }
 ],
 "metadata": {
  "language_info": {
   "codemirror_mode": {
    "name": "ipython",
    "version": 3
   },
   "file_extension": ".py",
   "mimetype": "text/x-python",
   "name": "python",
   "nbconvert_exporter": "python",
   "pygments_lexer": "ipython3",
   "version": "3.9.10"
  },
  "vscode": {
   "interpreter": {
    "hash": "674885a22a8f84ae62b69fd36ca440d95622dda91184fb7e02abcde20b0d9e4a"
   }
  }
 },
 "nbformat": 4,
 "nbformat_minor": 2
}
