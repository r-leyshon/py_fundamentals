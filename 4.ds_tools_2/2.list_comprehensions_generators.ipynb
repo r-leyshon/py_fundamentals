{
 "cells": [
  {
   "cell_type": "markdown",
   "metadata": {},
   "source": [
    "# List Comprehensions & Generators\n",
    "\n",
    "## List Comprehensions\n",
    "\n",
    "Compared to a `for` loop, these are computationally efficient. They also decrease the\n",
    "number of lines written, although at the price of readability.\n",
    "\n",
    "Consider them for when you require a list of the same length as the iterable you're working with."
   ]
  },
  {
   "cell_type": "code",
   "execution_count": null,
   "metadata": {},
   "outputs": [],
   "source": [
    "# adds emphasis to your numbers\n",
    "[str(num) + \"!\" for num in range(0, 11)]"
   ]
  },
  {
   "cell_type": "markdown",
   "metadata": {},
   "source": [
    "## Nested for loops in comprehension\n",
    "\n",
    "Instead of using a nested for loop, the same can be achieved with list comprehensions. Great for dodging the black complexity pre-commit hook.\n",
    "\n",
    "build a matrix equivalent to:\n",
    "\n",
    "```\n",
    "my_mat = [\n",
    "    [1,2,3],\n",
    "    [1,2,3],\n",
    "    [1,2,3]\n",
    "]\n",
    "```"
   ]
  },
  {
   "cell_type": "code",
   "execution_count": null,
   "metadata": {},
   "outputs": [],
   "source": [
    "my_mat = [[column for column in range(1, 4)] for row in range(1, 4)]\n",
    "my_mat"
   ]
  },
  {
   "cell_type": "markdown",
   "metadata": {},
   "source": [
    "## List Comprehensions & Conditions"
   ]
  },
  {
   "cell_type": "code",
   "execution_count": null,
   "metadata": {},
   "outputs": [],
   "source": [
    "cobra_kai = [\"Johnny Lawrence\", \"Daniel LaRusso\", \"Terry Silver\", \"John Kreese\"]"
   ]
  },
  {
   "cell_type": "code",
   "execution_count": null,
   "metadata": {},
   "outputs": [],
   "source": [
    "# a single predicate goes after the for clause\n",
    "[person for person in cobra_kai if \"L\" in person]"
   ]
  },
  {
   "cell_type": "code",
   "execution_count": null,
   "metadata": {},
   "outputs": [],
   "source": [
    "# an if else seems to need the predicates to go before the for clause\n",
    "[person if \"L\" in person else \"baddie\" for person in cobra_kai]"
   ]
  },
  {
   "cell_type": "markdown",
   "metadata": {},
   "source": [
    "## Dictionary Comprehension\n",
    "\n",
    "The same can be achieved with dictionaries."
   ]
  },
  {
   "cell_type": "code",
   "execution_count": null,
   "metadata": {},
   "outputs": [],
   "source": [
    "{member: member.lower().split(\" \") for member in cobra_kai}"
   ]
  },
  {
   "cell_type": "markdown",
   "metadata": {},
   "source": [
    "## Generators\n",
    "\n",
    "These are like list comprehensions but using parentheses, but they don't store the iterable in memory, instead they generate the sequence on iteration.\n",
    "\n",
    "Take the list comprehension from above and convert to a generator instead:  \n",
    "`[person if \"L\" in person else \"baddie\" for person in cobra_kai]`"
   ]
  },
  {
   "cell_type": "code",
   "execution_count": null,
   "metadata": {},
   "outputs": [],
   "source": [
    "goodies = (person if \"L\" in person else \"baddie\" for person in cobra_kai)\n",
    "goodies"
   ]
  },
  {
   "cell_type": "code",
   "execution_count": null,
   "metadata": {},
   "outputs": [],
   "source": [
    "# To access values\n",
    "list(goodies)"
   ]
  },
  {
   "cell_type": "code",
   "execution_count": null,
   "metadata": {},
   "outputs": [],
   "source": [
    "# or (remember to regenerate the object once called)\n",
    "goodies = (person if \"L\" in person else \"baddie\" for person in cobra_kai)\n",
    "for i in goodies:\n",
    "    print(i)"
   ]
  },
  {
   "cell_type": "markdown",
   "metadata": {},
   "source": [
    "## Generator functions\n",
    "\n",
    "These can be used to `yield` multiple values instead of returning one."
   ]
  },
  {
   "cell_type": "code",
   "execution_count": null,
   "metadata": {},
   "outputs": [],
   "source": [
    "def split_names(name_list):\n",
    "    \"\"\"Takes a list of names and returns a generator with those names\n",
    "    separated by the space.\"\"\"\n",
    "    for name in name_list:\n",
    "        yield name.split(\" \")"
   ]
  },
  {
   "cell_type": "code",
   "execution_count": null,
   "metadata": {},
   "outputs": [],
   "source": [
    "split_names(cobra_kai)"
   ]
  },
  {
   "cell_type": "code",
   "execution_count": null,
   "metadata": {},
   "outputs": [],
   "source": [
    "# to access values\n",
    "for i in split_names(cobra_kai):\n",
    "    print(i)"
   ]
  },
  {
   "cell_type": "code",
   "execution_count": null,
   "metadata": {},
   "outputs": [],
   "source": []
  }
 ],
 "metadata": {
  "language_info": {
   "codemirror_mode": {
    "name": "ipython",
    "version": 3
   },
   "file_extension": ".py",
   "mimetype": "text/x-python",
   "name": "python",
   "nbconvert_exporter": "python",
   "pygments_lexer": "ipython3",
   "version": "3.9.12"
  },
  "vscode": {
   "interpreter": {
    "hash": "6181d3ab94599cf65ce5351e726c9c383fd9f31592b5b0074083a4691ee01183"
   }
  }
 },
 "nbformat": 4,
 "nbformat_minor": 2
}
