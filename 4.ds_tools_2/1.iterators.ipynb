{
 "cells": [
  {
   "cell_type": "markdown",
   "metadata": {},
   "source": [
    "# Iterators\n",
    "\n",
    "## Fundamentals\n",
    "\n",
    "Goes over the basics. Any iterable in python will have the `.iter` method. This allows you to call `next()` repeatedly upon the iterable to pull out the consecutive values. `for` loops create these iterables behind the scenes."
   ]
  },
  {
   "cell_type": "code",
   "execution_count": null,
   "metadata": {},
   "outputs": [],
   "source": [
    "cobra_kai = [\"JohnnyLawrence\", \"Daniel LaRusso\", \"John Kreese\", \"Terry Silver\"]"
   ]
  },
  {
   "cell_type": "code",
   "execution_count": null,
   "metadata": {},
   "outputs": [],
   "source": [
    "# create an iterable\n",
    "cobra_iter = iter(cobra_kai)\n",
    "cobra_iter"
   ]
  },
  {
   "cell_type": "code",
   "execution_count": null,
   "metadata": {},
   "outputs": [],
   "source": [
    "print(next(cobra_iter))\n",
    "print(next(cobra_iter))\n",
    "print(next(cobra_iter))\n",
    "print(next(cobra_iter))"
   ]
  },
  {
   "cell_type": "code",
   "execution_count": null,
   "metadata": {},
   "outputs": [],
   "source": [
    "# printing the statement once more will result in a stop iteration error\n",
    "# print(next(cobra_iter))"
   ]
  },
  {
   "cell_type": "markdown",
   "metadata": {},
   "source": [
    "## `range()`\n",
    "\n",
    "This function is useful for iterating. It generates iterables."
   ]
  },
  {
   "cell_type": "code",
   "execution_count": null,
   "metadata": {},
   "outputs": [],
   "source": [
    "for num in range(10):\n",
    "    print(num)"
   ]
  },
  {
   "cell_type": "code",
   "execution_count": null,
   "metadata": {},
   "outputs": [],
   "source": [
    "for num in range(1, 11):\n",
    "    print(num)"
   ]
  },
  {
   "cell_type": "markdown",
   "metadata": {},
   "source": [
    "The `range()` function doesn't pre-create the iterable object in memory. Rather, it generates the sequence during the iteration. This can be exemplified by asking it to create an iterator of a stupidly large size and then only calling the first few values."
   ]
  },
  {
   "cell_type": "code",
   "execution_count": null,
   "metadata": {},
   "outputs": [],
   "source": [
    "silly = iter(range(10**100000))\n",
    "print(next(silly))\n",
    "print(next(silly))\n",
    "print(next(silly))"
   ]
  },
  {
   "cell_type": "code",
   "execution_count": null,
   "metadata": {},
   "outputs": [],
   "source": [
    "# functions like sum will take an iterator as an argument\n",
    "sum(range(5, 11))"
   ]
  },
  {
   "cell_type": "markdown",
   "metadata": {},
   "source": [
    "## `enumerate()`\n",
    "\n",
    "Already used to unpack index values from iterables. Though this time it introduces the enumerate object format and how to splat the values."
   ]
  },
  {
   "cell_type": "code",
   "execution_count": null,
   "metadata": {},
   "outputs": [],
   "source": [
    "turtles = [\"Leonardo\", \"Donatello\", \"Rafael\", \"Michaelangelo\"]\n",
    "numbered_turtles = list(enumerate(turtles))\n",
    "numbered_turtles\n",
    "# a list of tuples is returned"
   ]
  },
  {
   "cell_type": "code",
   "execution_count": null,
   "metadata": {},
   "outputs": [],
   "source": [
    "# splat the enumerate object values\n",
    "print(*enumerate(turtles))"
   ]
  },
  {
   "cell_type": "markdown",
   "metadata": {},
   "source": [
    "## `zip()`\n",
    "\n",
    "Use this to iterate over several iterables concurrently."
   ]
  },
  {
   "cell_type": "code",
   "execution_count": null,
   "metadata": {},
   "outputs": [],
   "source": [
    "weapons = [\"sword\", \"bo\", \"sai\", \"nunchuks\"]\n",
    "colours = [\"blue\", \"purple\", \"red\", \"orange\"]\n",
    "turtle_list = list(zip(turtles, weapons, colours))\n",
    "print(turtle_list)"
   ]
  },
  {
   "cell_type": "code",
   "execution_count": null,
   "metadata": {},
   "outputs": [],
   "source": [
    "# or unpack within a for loop\n",
    "\n",
    "for x, y, z in zip(turtles, weapons, colours):\n",
    "    print(x, y, z)"
   ]
  },
  {
   "cell_type": "markdown",
   "metadata": {},
   "source": [
    "## Splat with `*`"
   ]
  },
  {
   "cell_type": "code",
   "execution_count": null,
   "metadata": {},
   "outputs": [],
   "source": [
    "turtle_zip = zip(turtles, weapons, colours)\n",
    "print(*turtle_zip)"
   ]
  },
  {
   "cell_type": "code",
   "execution_count": null,
   "metadata": {},
   "outputs": [],
   "source": [
    "# you can achieve the equivalent of unzipping by using zip with splat on a zip object\n",
    "# regenerate zip object\n",
    "turtle_zip = zip(turtles, weapons, colours)\n",
    "x, y, z = zip(*turtle_zip)\n",
    "print(x, y, z)"
   ]
  },
  {
   "cell_type": "markdown",
   "metadata": {},
   "source": [
    "## Reading files in chunks\n",
    "\n",
    "This can involve processing the data in chunks too. Let's write to file and explore."
   ]
  },
  {
   "cell_type": "code",
   "execution_count": null,
   "metadata": {},
   "outputs": [],
   "source": [
    "import os\n",
    "\n",
    "import pandas as pd\n",
    "import seaborn as sns\n",
    "from pyprojroot import here"
   ]
  },
  {
   "cell_type": "code",
   "execution_count": null,
   "metadata": {},
   "outputs": [],
   "source": [
    "penguins = sns.load_dataset(\"penguins\")\n",
    "penguins.to_csv(os.path.join(here(), \"data\", \"penguins.csv\"), index=False)\n",
    "del penguins"
   ]
  },
  {
   "cell_type": "code",
   "execution_count": null,
   "metadata": {},
   "outputs": [],
   "source": [
    "val_counts = {}\n",
    "for chunk in pd.read_csv(os.path.join(here(), \"data\", \"penguins.csv\"), chunksize=20):\n",
    "    for obs in chunk[\"species\"]:\n",
    "        if obs in val_counts.keys():\n",
    "            val_counts[obs] += 1\n",
    "        else:\n",
    "            val_counts[obs] = 1\n",
    "\n",
    "val_counts"
   ]
  },
  {
   "cell_type": "markdown",
   "metadata": {},
   "source": [
    "Turning the above into a function."
   ]
  },
  {
   "cell_type": "code",
   "execution_count": null,
   "metadata": {},
   "outputs": [],
   "source": [
    "def file_table(file_csv, chunksz, column):\n",
    "    \"\"\"Counts values within the specified column of a csv file\"\"\"\n",
    "    val_counts = dict()\n",
    "    for chunk in pd.read_csv(file_csv, chunksize=chunksz):\n",
    "        for obs in chunk[column]:\n",
    "            if obs in val_counts.keys():\n",
    "                val_counts[obs] += 1\n",
    "            else:\n",
    "                val_counts[obs] = 1\n",
    "    return val_counts"
   ]
  },
  {
   "cell_type": "code",
   "execution_count": null,
   "metadata": {},
   "outputs": [],
   "source": [
    "file_table(os.path.join(here(), \"data\", \"penguins.csv\"), 10, \"island\")"
   ]
  },
  {
   "cell_type": "code",
   "execution_count": null,
   "metadata": {},
   "outputs": [],
   "source": [
    "file_table(os.path.join(here(), \"data\", \"penguins.csv\"), 10, \"sex\")"
   ]
  },
  {
   "cell_type": "code",
   "execution_count": null,
   "metadata": {},
   "outputs": [],
   "source": []
  }
 ],
 "metadata": {
  "language_info": {
   "codemirror_mode": {
    "name": "ipython",
    "version": 3
   },
   "file_extension": ".py",
   "mimetype": "text/x-python",
   "name": "python",
   "nbconvert_exporter": "python",
   "pygments_lexer": "ipython3",
   "version": "3.9.12"
  },
  "vscode": {
   "interpreter": {
    "hash": "6181d3ab94599cf65ce5351e726c9c383fd9f31592b5b0074083a4691ee01183"
   }
  }
 },
 "nbformat": 4,
 "nbformat_minor": 2
}
